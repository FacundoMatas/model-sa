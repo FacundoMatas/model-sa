{
 "cells": [
  {
   "cell_type": "code",
   "execution_count": 1,
   "metadata": {},
   "outputs": [],
   "source": [
    "import tweepy\n",
    "import json\n",
    "from tweepy import OAuthHandler\n",
    "from tweepy import Stream\n",
    "from tweepy.streaming import StreamListener\n",
    " \n",
    "#Claves otorgadas por twitter para utilizar su api \n",
    "#Al ser un repositorio publico, no deben estar las claves publicas en el codigo\n",
    "consumer_key = ''\n",
    "consumer_secret = ''\n",
    "access_token = ''\n",
    "access_secret = ''\n",
    " \n",
    "auth = OAuthHandler(consumer_key, consumer_secret)\n",
    "auth.set_access_token(access_token, access_secret)\n",
    " \n",
    "#     Conexion a la api usando tweepy\n",
    "api = tweepy.API(auth)\n",
    "\n",
    "#     Cada tweet encontrado en la busqueda lo lleva a un JSON\n",
    "for tweet in tweepy.Cursor(api.search, q= \"#codigo -filter:retweets\", tweet_mode = 'extended').items(1000):  \n",
    "    try:        \n",
    "        with open('CodigoPenal2.json', 'a') as f:\n",
    "            f.write(json.dumps(tweet._json))\n",
    "            f.write(\"\\n\")           \n",
    "    except BaseException as e:\n",
    "            print(str(e))\n",
    "\n",
    "\n"
   ]
  },
  {
   "cell_type": "code",
   "execution_count": null,
   "metadata": {},
   "outputs": [],
   "source": []
  }
 ],
 "metadata": {
  "kernelspec": {
   "display_name": "Python 3",
   "language": "python",
   "name": "python3"
  },
  "language_info": {
   "codemirror_mode": {
    "name": "ipython",
    "version": 3
   },
   "file_extension": ".py",
   "mimetype": "text/x-python",
   "name": "python",
   "nbconvert_exporter": "python",
   "pygments_lexer": "ipython3",
   "version": "3.6.4"
  }
 },
 "nbformat": 4,
 "nbformat_minor": 2
}
