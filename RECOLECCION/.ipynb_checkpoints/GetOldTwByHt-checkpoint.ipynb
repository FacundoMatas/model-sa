{
 "cells": [
  {
   "cell_type": "code",
   "execution_count": 1,
   "metadata": {},
   "outputs": [],
   "source": [
    "import tweepy\n",
    "import json\n",
    "from tweepy import OAuthHandler\n",
    "from tweepy import Stream\n",
    "from tweepy.streaming import StreamListener\n",
    " \n",
    "    \n",
    " #Claves otorgadas por twitter para utilizar su api   \n",
    "consumer_key = 'vSsu0nU5Cz3MeEgW7jD1IEjGX'\n",
    "consumer_secret = 'lypasuerRifKlj3hzn5FG9k2VaqjSuS4A7oPnHzW7YqtYt4DfN'\n",
    "access_token = '864869803546349568-hmw87XnXXeETuCwJTmZSXVBZ1JAih2x'\n",
    "access_secret = 's2wwTbQYuAgguwzd2X0YeQn9UPFnCBqw8IZj7u13ljUdS'\n",
    " \n",
    "auth = OAuthHandler(consumer_key, consumer_secret)\n",
    "auth.set_access_token(access_token, access_secret)\n",
    " \n",
    "api = tweepy.API(auth)\n",
    "\n",
    "for tweet in tweepy.Cursor(api.search, q= \"#codigo -filter:retweets\", tweet_mode = 'extended').items(1000):  \n",
    "    try:        \n",
    "        with open('CodigoPenal2.json', 'a') as f:\n",
    "            f.write(json.dumps(tweet._json))\n",
    "            f.write(\"\\n\")           \n",
    "    except BaseException as e:\n",
    "            print(str(e))\n",
    "\n",
    "\n"
   ]
  },
  {
   "cell_type": "code",
   "execution_count": null,
   "metadata": {},
   "outputs": [],
   "source": []
  }
 ],
 "metadata": {
  "kernelspec": {
   "display_name": "Python 3",
   "language": "python",
   "name": "python3"
  },
  "language_info": {
   "codemirror_mode": {
    "name": "ipython",
    "version": 3
   },
   "file_extension": ".py",
   "mimetype": "text/x-python",
   "name": "python",
   "nbconvert_exporter": "python",
   "pygments_lexer": "ipython3",
   "version": "3.6.4"
  }
 },
 "nbformat": 4,
 "nbformat_minor": 2
}
