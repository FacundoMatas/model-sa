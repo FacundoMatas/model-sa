{
 "cells": [
  {
   "cell_type": "markdown",
   "metadata": {},
   "source": [
    "# Guardar twets en un solo archivo"
   ]
  },
  {
   "cell_type": "code",
   "execution_count": null,
   "metadata": {},
   "outputs": [],
   "source": [
    "from os import scandir, getcwd\n",
    "import shutil\n",
    "import pandas as pd\n",
    "import json\n",
    "import pprint"
   ]
  },
  {
   "cell_type": "code",
   "execution_count": null,
   "metadata": {},
   "outputs": [],
   "source": [
    "files_path=getcwd()\n",
    "files_path_json = getcwd()+'\\\\Tweets\\\\'"
   ]
  },
  {
   "cell_type": "code",
   "execution_count": null,
   "metadata": {},
   "outputs": [],
   "source": [
    "def ls(ruta = getcwd()):\n",
    "    return [arch.name for arch in scandir(ruta) if arch.is_file()]"
   ]
  },
  {
   "cell_type": "code",
   "execution_count": null,
   "metadata": {},
   "outputs": [],
   "source": [
    "list_files = []\n",
    "list_files = ls(files_path_json)\n"
   ]
  },
  {
   "cell_type": "code",
   "execution_count": null,
   "metadata": {
    "scrolled": false
   },
   "outputs": [],
   "source": [
    "#PARA TRAER TODOS LOS TWEETS  CON TODAS LAS COLUMNAS A UN EXCEL\n",
    "\n",
    "\n",
    "ds_aux = pd.DataFrame\n",
    "ds_aux2 = pd.DataFrame\n",
    "ds_aux3 = pd.DataFrame()\n",
    "f=files_path+'tweets_full.csv'\n",
    "f2=files_path+'tweets_full.xlsx'\n",
    "#columns = ['coordinates','place', 'lang', 'text', 'source', 'favorite_count', 'retweet_count']\n",
    "for i in range(len(list_files)):\n",
    "    ds_aux2 = pd.read_json(files_path_json+list_files[i], lines = True)  \n",
    "    if 'full_text' in ds_aux2.columns:\n",
    "        ds_aux2=ds_aux2.rename(index=str, columns={'full_text': 'text'})\n",
    "    ds_aux2 = ds_aux2.set_index(\"id\")\n",
    "    ds_aux = ds_aux2\n",
    "    ds_aux.to_csv(f, \n",
    "                           na_rep='Null', \n",
    "                           mode='a', \n",
    "                           header=False, \n",
    "                           encoding = 'utf-8-sig',\n",
    "                           sep = '&'          )\n",
    "\n",
    "    \n",
    "    ds_aux3 = ds_aux3.append(ds_aux2)\n",
    "\n",
    "ds_aux3.to_excel(f2)\n",
    "\n",
    "    "
   ]
  },
  {
   "cell_type": "code",
   "execution_count": null,
   "metadata": {},
   "outputs": [],
   "source": []
  },
  {
   "cell_type": "markdown",
   "metadata": {},
   "source": [
    "Hay que escribir las columnas en el csv, solo la primera ves:"
   ]
  },
  {
   "cell_type": "code",
   "execution_count": null,
   "metadata": {},
   "outputs": [],
   "source": [
    "ds.columns"
   ]
  },
  {
   "cell_type": "code",
   "execution_count": null,
   "metadata": {
    "scrolled": true
   },
   "outputs": [],
   "source": [
    "ds_aux = pd.DataFrame\n",
    "ds_aux2 = pd.DataFrame\n",
    "f=files_path+'tweets.csv'\n",
    "columns = ['coordinates','place', 'lang', 'text', 'source', 'favorite_count', 'retweet_count']\n",
    "for i in range(len(list_files)):\n",
    "\n",
    "    ds_aux2 = pd.read_json(files_path_json+list_files[i], lines = True) \n",
    "    if 'full_text' in ds_aux2.columns:\n",
    "        ds_aux2=ds_aux2.rename(index=str, columns={'full_text': 'text'})\n",
    "\n",
    "    ds_aux2 = ds_aux2.set_index(\"id\")\n",
    "    ds_aux = ds_aux2[columns] \n",
    "    ds_aux.to_csv(f, \n",
    "                           na_rep='Null', \n",
    "                           mode='a', \n",
    "                           header=False, \n",
    "                           encoding = 'utf-8-sig',\n",
    "                           sep = '\\t'          )\n",
    "\n",
    "ds_aux.head()\n",
    "    \n",
    "    \n",
    "    "
   ]
  },
  {
   "cell_type": "code",
   "execution_count": null,
   "metadata": {},
   "outputs": [],
   "source": []
  },
  {
   "cell_type": "code",
   "execution_count": null,
   "metadata": {},
   "outputs": [],
   "source": [
    "cols = ds_aux.columns.tolist()\n",
    "cols"
   ]
  },
  {
   "cell_type": "code",
   "execution_count": null,
   "metadata": {},
   "outputs": [],
   "source": [
    "cols = cols[-1:] + cols[:-1]\n",
    "cols"
   ]
  },
  {
   "cell_type": "code",
   "execution_count": null,
   "metadata": {},
   "outputs": [],
   "source": [
    "ds_aux = ds_aux[cols]\n",
    "ds_aux.head()"
   ]
  }
 ],
 "metadata": {
  "kernelspec": {
   "display_name": "Python 3",
   "language": "python",
   "name": "python3"
  },
  "language_info": {
   "codemirror_mode": {
    "name": "ipython",
    "version": 3
   },
   "file_extension": ".py",
   "mimetype": "text/x-python",
   "name": "python",
   "nbconvert_exporter": "python",
   "pygments_lexer": "ipython3",
   "version": "3.6.4"
  }
 },
 "nbformat": 4,
 "nbformat_minor": 2
}
